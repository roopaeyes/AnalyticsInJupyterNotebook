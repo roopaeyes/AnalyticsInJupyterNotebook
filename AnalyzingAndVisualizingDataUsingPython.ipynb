{
 "cells": [
  {
   "cell_type": "code",
   "execution_count": null,
   "id": "54f62546",
   "metadata": {},
   "outputs": [],
   "source": [
    "!pip install seaborn"
   ]
  },
  {
   "cell_type": "code",
   "execution_count": null,
   "id": "1a3808a6",
   "metadata": {},
   "outputs": [],
   "source": [
    "import numpy as np\n",
    "import pandas as pd\n",
    "import matplotlib.pyplot as plt\n",
    "import seaborn as sns"
   ]
  },
  {
   "cell_type": "code",
   "execution_count": null,
   "id": "f81df584",
   "metadata": {
    "scrolled": true
   },
   "outputs": [],
   "source": [
    "laptopdata = pd.read_csv(\"datasets/laptops.csv\", encoding = \"ISO-8859-1\",index_col=0)\n",
    "laptopdata.head()"
   ]
  },
  {
   "cell_type": "markdown",
   "id": "b2c106a4",
   "metadata": {},
   "source": [
    "## Shape will return no of rows and no of columns"
   ]
  },
  {
   "cell_type": "code",
   "execution_count": null,
   "id": "3f019646",
   "metadata": {},
   "outputs": [],
   "source": [
    "laptopdata.shape"
   ]
  },
  {
   "cell_type": "markdown",
   "id": "499c85a6",
   "metadata": {},
   "source": [
    "## inplace = true --> do the mentioned operation in the dataframe itself, \n",
    "## if false would have returned new dataframe with the dropped column\n",
    "## axis = 1 , is for columns"
   ]
  },
  {
   "cell_type": "code",
   "execution_count": null,
   "id": "b1969df0",
   "metadata": {},
   "outputs": [],
   "source": [
    "laptopdata.drop(['Product', \n",
    "                 'ScreenResolution', \n",
    "                 'Cpu',\n",
    "                 'Memory', \n",
    "                 'Gpu',\n",
    "                 'Weight'], inplace=True, axis = 1)"
   ]
  },
  {
   "cell_type": "code",
   "execution_count": null,
   "id": "cb677c22",
   "metadata": {},
   "outputs": [],
   "source": [
    "laptopdata.head()"
   ]
  },
  {
   "cell_type": "code",
   "execution_count": null,
   "id": "4baa74e1",
   "metadata": {},
   "outputs": [],
   "source": [
    "laptopdata[\"TypeName\"].unique()"
   ]
  },
  {
   "cell_type": "code",
   "execution_count": null,
   "id": "3a345bad",
   "metadata": {},
   "outputs": [],
   "source": [
    "laptopdata[\"TypeName\"].value_counts()"
   ]
  },
  {
   "cell_type": "markdown",
   "id": "e15a4eaa",
   "metadata": {},
   "source": [
    "## By dafault value_counts return the count in descending order, if you dont want the sorting then use sort= False"
   ]
  },
  {
   "cell_type": "code",
   "execution_count": null,
   "id": "4d208d0a",
   "metadata": {},
   "outputs": [],
   "source": [
    "laptopdata[\"TypeName\"].value_counts(sort=False)"
   ]
  },
  {
   "cell_type": "markdown",
   "id": "2654bc32",
   "metadata": {},
   "source": [
    "## To sort the values in ascending order, sort_values(ascending=True)"
   ]
  },
  {
   "cell_type": "code",
   "execution_count": null,
   "id": "215b0a9f",
   "metadata": {},
   "outputs": [],
   "source": [
    "laptopdata[\"TypeName\"].value_counts().sort_values(ascending=True)"
   ]
  },
  {
   "cell_type": "code",
   "execution_count": null,
   "id": "689ad787",
   "metadata": {},
   "outputs": [],
   "source": [
    "laptopdata[\"TypeName\"].groupby(laptopdata[\"Company\"]).value_counts().sort_values(ascending=False)"
   ]
  },
  {
   "cell_type": "markdown",
   "id": "d2753e6b",
   "metadata": {},
   "source": [
    "##  bins argument. This parameter allows us to specificy the number of bins (or groups we want to split the data into) \n",
    "## as an integer. In the example below I have added bins=5 to split the Price_euros into 5 groups. "
   ]
  },
  {
   "cell_type": "code",
   "execution_count": null,
   "id": "da5c432f",
   "metadata": {
    "scrolled": true
   },
   "outputs": [],
   "source": [
    "laptopdata[\"Price_euros\"].value_counts(bins=5)"
   ]
  },
  {
   "cell_type": "markdown",
   "id": "8deff1bf",
   "metadata": {},
   "source": [
    "## For a bar chart, you first need to create a series of counts of each unique value (use the pandas value_counts() function) and then proceed to plot the resulting series of counts using the pandas series plot() function.\n",
    "\n",
    "## The plot() function plots a line chart of the series values by default but you can specify the type of chart to plot using the kind parameter. To plot a bar chart, pass ‘bar’ to the kind parameter. "
   ]
  },
  {
   "cell_type": "code",
   "execution_count": null,
   "id": "a684b4fc",
   "metadata": {},
   "outputs": [],
   "source": [
    "plt.figure(figsize=(12,8))\n",
    "laptopdata[\"Company\"].value_counts().plot(kind=\"bar\")\n",
    "plt.title('Laptops by company', fontsize=15)\n",
    "\n",
    "plt.xlabel('Company', fontsize=12)\n",
    "plt.ylabel('Frequency', fontsize=12)\n",
    "plt.show()"
   ]
  },
  {
   "cell_type": "markdown",
   "id": "94ae9b76",
   "metadata": {},
   "source": [
    "### A Box Plot is also known as Whisker plot is created to display the summary of the set of data values having properties \n",
    "### like minimum, first quartile, median, third quartile and maximum.\n",
    "### In the box plot, a box is created from the first quartile to the third quartile, a vertical line is also there which goes through the box at the median.\n",
    "### Here x-axis denotes the data to be plotted while the y-axis shows the frequency distribution.\n",
    "\n"
   ]
  },
  {
   "cell_type": "code",
   "execution_count": null,
   "id": "598749f8",
   "metadata": {},
   "outputs": [],
   "source": [
    "laptopdata[[\"Price_euros\"]].boxplot()"
   ]
  },
  {
   "cell_type": "code",
   "execution_count": null,
   "id": "00d3c7dc",
   "metadata": {},
   "outputs": [],
   "source": [
    "plt.boxplot(laptopdata[[\"Price_euros\"]])"
   ]
  },
  {
   "cell_type": "code",
   "execution_count": null,
   "id": "60558e5c",
   "metadata": {},
   "outputs": [],
   "source": [
    "laptopdata.boxplot(by='Company', column=[\"Price_euros\"], grid=False,figsize=(15,8))"
   ]
  },
  {
   "cell_type": "markdown",
   "id": "6e961b36",
   "metadata": {},
   "source": [
    "### So far we have used matplot lib , lets use swarmplot"
   ]
  },
  {
   "cell_type": "code",
   "execution_count": null,
   "id": "3abdf948",
   "metadata": {},
   "outputs": [],
   "source": [
    "plt.figure(figsize=(12,8))\n",
    "sns.swarmplot(x=\"TypeName\",y= \"Price_euros\", data= laptopdata)\n",
    "plt.title('Price distributipn by type', fontsize=15)\n",
    "\n",
    "plt.xlabel('Company', fontsize=12)\n",
    "plt.ylabel('Prize in euros', fontsize=12)\n",
    "plt.show()"
   ]
  },
  {
   "cell_type": "code",
   "execution_count": null,
   "id": "463de0f2",
   "metadata": {},
   "outputs": [],
   "source": []
  },
  {
   "cell_type": "markdown",
   "id": "8f8440a6",
   "metadata": {},
   "source": []
  },
  {
   "cell_type": "code",
   "execution_count": null,
   "id": "b7fc6c09",
   "metadata": {},
   "outputs": [],
   "source": []
  },
  {
   "cell_type": "code",
   "execution_count": null,
   "id": "f19d5bfc",
   "metadata": {},
   "outputs": [],
   "source": []
  }
 ],
 "metadata": {
  "kernelspec": {
   "display_name": "Python 3",
   "language": "python",
   "name": "python3"
  },
  "language_info": {
   "codemirror_mode": {
    "name": "ipython",
    "version": 3
   },
   "file_extension": ".py",
   "mimetype": "text/x-python",
   "name": "python",
   "nbconvert_exporter": "python",
   "pygments_lexer": "ipython3",
   "version": "3.8.8"
  }
 },
 "nbformat": 4,
 "nbformat_minor": 5
}
